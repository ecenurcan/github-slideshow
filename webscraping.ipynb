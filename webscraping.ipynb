{
  "nbformat": 4,
  "nbformat_minor": 0,
  "metadata": {
    "colab": {
      "name": "Untitled1.ipynb",
      "provenance": [],
      "authorship_tag": "ABX9TyPNQuQtRBFxXEk1GSnKZJKo",
      "include_colab_link": true
    },
    "kernelspec": {
      "name": "python3",
      "display_name": "Python 3"
    },
    "language_info": {
      "name": "python"
    }
  },
  "cells": [
    {
      "cell_type": "markdown",
      "metadata": {
        "id": "view-in-github",
        "colab_type": "text"
      },
      "source": [
        "<a href=\"https://colab.research.google.com/github/ecenurcan/github-slideshow/blob/main/webscraping.ipynb\" target=\"_parent\"><img src=\"https://colab.research.google.com/assets/colab-badge.svg\" alt=\"Open In Colab\"/></a>"
      ]
    },
    {
      "cell_type": "code",
      "execution_count": 35,
      "metadata": {
        "id": "heEQB1h3aiYe"
      },
      "outputs": [],
      "source": [
        "import requests\n",
        "from bs4 import BeautifulSoup\n",
        "\n",
        "headers_param = {\"User-Agent\":\"Mozilla/5.0 (X11; Ubuntu; Linux x86_64; rv:99.0) Gecko/20100101 Firefox/99.0\"}\n",
        "\n",
        "eurasia = requests.get(\"https://win-eurasia.com/tr/fuar-hakkinda/katilimci-urun-arama?action=search&data%5Btype%5D=all&data%5Bq%5D=&page=?\",headers=headers_param)\n",
        "\n",
        "firms = eurasia.content\n",
        "\n",
        "soup = BeautifulSoup(firms,\"html.parser\")\n",
        "\n",
        "all_firms = soup.find_all(\"h3\",{\"class\":\"anno textLink\"})\n",
        "\n",
        "for firm in all_firms:\n",
        "    print(firm.a.text)\n",
        "\n",
        "all_data = soup.find_all(\"div\",{\"class\":\"line web\"})\n",
        "\n",
        "for data in all_data:\n",
        "    print(data.text)\n"
      ]
    }
  ]
}